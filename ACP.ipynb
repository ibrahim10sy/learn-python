{
  "nbformat": 4,
  "nbformat_minor": 0,
  "metadata": {
    "colab": {
      "provenance": [],
      "authorship_tag": "ABX9TyMmwOqupNamteeKUZsb/lQ8",
      "include_colab_link": true
    },
    "kernelspec": {
      "name": "python3",
      "display_name": "Python 3"
    },
    "language_info": {
      "name": "python"
    }
  },
  "cells": [
    {
      "cell_type": "markdown",
      "metadata": {
        "id": "view-in-github",
        "colab_type": "text"
      },
      "source": [
        "<a href=\"https://colab.research.google.com/github/ibrahim10sy/learn-python/blob/main/ACP.ipynb\" target=\"_parent\"><img src=\"https://colab.research.google.com/assets/colab-badge.svg\" alt=\"Open In Colab\"/></a>"
      ]
    },
    {
      "cell_type": "markdown",
      "source": [
        "# **Applications de l'analyse en composantes principales (ACP)**\n",
        "\n",
        "\n",
        "**Objectifs**\n",
        "\n",
        "* Utiliser l'analyse en composantes principales (ACP) pour projeter des données 2D sur leurs axes principaux\n",
        "* Utiliser l'ACP pour réduire la dimensionnalité de l'espace des caractéristiques\n",
        "* Relier la variance expliquée à l'importance des caractéristiques et à la réduction du bruit"
      ],
      "metadata": {
        "id": "-y0UFJ8XhORS"
      }
    },
    {
      "cell_type": "markdown",
      "source": [
        "# **Introduction**\n",
        "Dans ce laboratoire, nous explorerojs la mise en œuvre de deux applications importantes de l'ACP.\n",
        "\n",
        "* La première application illustre comment utiliser l'ACP pour projeter des données 2D sur leurs axes principaux, c'est-à-dire les deux directions orthogonales qui expliquent la majeure partie de la variance de vos données.\n",
        "\n",
        "* La seconde application  permettra de projeter des données de plus grande dimension vers un espace de caractéristiques de plus petite dimension. Il s'agit d'un exemple de réduction dimensionnelle, une technique puissante qui présente de nombreux avantages, notamment la réduction de la charge de calcul nécessaire à la construction de votre modèle et, dans de nombreux cas, sa précision. L'ACP peut  aider à filtrer les variables redondantes et linéairement corrélées et à réduire le bruit dans nos données."
      ],
      "metadata": {
        "id": "Z77IWEDLiC7Q"
      }
    },
    {
      "cell_type": "markdown",
      "source": [
        "# **Utilisation de l'ACP pour projeter des données 2D sur leurs axes principaux**"
      ],
      "metadata": {
        "id": "uZtYosWVisbU"
      }
    },
    {
      "cell_type": "code",
      "execution_count": null,
      "metadata": {
        "id": "1-FgYzucgT4O"
      },
      "outputs": [],
      "source": [
        "!pip install numpy==2.2.0\n",
        "!pip install scikit-learn==1.6.0\n",
        "!pip install matplotlib==3.9.3"
      ]
    },
    {
      "cell_type": "code",
      "source": [
        "import numpy as np\n",
        "import matplotlib.pyplot as plt\n",
        "from sklearn.decomposition import PCA\n",
        "from sklearn import datasets\n",
        "from sklearn.preprocessing import StandardScaler"
      ],
      "metadata": {
        "id": "pwoL8LqRixJl"
      },
      "execution_count": 1,
      "outputs": []
    },
    {
      "cell_type": "markdown",
      "source": [
        "Créer un jeu de données\n",
        "Création d'un jeu de données bidimensionnel contenant deux entités linéairement corrélées.\n",
        "\n",
        "Vous utiliserez une distribution normale bivariée.\n",
        "\n",
        "Les deux entités, X1 et X2, auront une moyenne nulle et une covariance donnée par la matrice de covariance (symétrique) :"
      ],
      "metadata": {
        "id": "vqT80gmXjhXD"
      }
    },
    {
      "cell_type": "markdown",
      "source": [
        "Ici, les éléments diagonaux définissent les variances de X1 et X2 (3 et 2, respectivement), tandis que l'élément hors diagonale est la covariance (2) entre X1 et X2, qui exprime la similitude avec laquelle ces caractéristiques varient."
      ],
      "metadata": {
        "id": "JOxMpuN9j6g4"
      }
    },
    {
      "cell_type": "code",
      "source": [
        "np.random.seed(42)\n",
        "mean = [0, 0]\n",
        "cov = [[3, 2], [2, 2]]\n",
        "X = np.random.multivariate_normal(mean=mean, cov=cov, size=200)"
      ],
      "metadata": {
        "id": "9NIrVbNZi4LO"
      },
      "execution_count": 2,
      "outputs": []
    },
    {
      "cell_type": "code",
      "source": [
        "X"
      ],
      "metadata": {
        "colab": {
          "base_uri": "https://localhost:8080/"
        },
        "collapsed": true,
        "id": "nTScq84skAdV",
        "outputId": "b1162d56-e191-47d1-82b7-97f8c0fdc30b"
      },
      "execution_count": 3,
      "outputs": [
        {
          "output_type": "execute_result",
          "data": {
            "text/plain": [
              "array([[-7.79842558e-01, -7.25035362e-01],\n",
              "       [-1.71097070e+00, -5.64228380e-02],\n",
              "       [ 4.89591649e-01,  1.85568480e-01],\n",
              "       [-2.97122622e+00, -1.67515888e+00],\n",
              "       [ 5.69236811e-01,  9.00239014e-01],\n",
              "       [ 9.69916161e-01,  3.66038690e-01],\n",
              "       [ 3.72329343e-01, -1.31659722e+00],\n",
              "       [ 3.13291389e+00,  1.97374029e+00],\n",
              "       [ 1.57697817e+00,  1.49525938e+00],\n",
              "       [ 2.10410746e+00,  4.56393273e-01],\n",
              "       [-2.37531795e+00, -2.04426174e+00],\n",
              "       [ 4.66901868e-01, -8.32352558e-01],\n",
              "       [ 8.71231068e-01,  7.73420205e-01],\n",
              "       [ 1.78452439e+00,  1.70892989e+00],\n",
              "       [ 1.12999928e+00,  6.37231499e-01],\n",
              "       [ 2.58134249e-01,  1.75760187e+00],\n",
              "       [ 4.53736035e-01, -5.34292484e-01],\n",
              "       [-8.87208561e-01, -1.71831447e+00],\n",
              "       [ 4.46952492e-01, -1.29730430e+00],\n",
              "       [ 2.15569151e+00,  1.84849172e+00],\n",
              "       [-1.31299097e+00, -8.81189775e-01],\n",
              "       [ 3.17385058e-01, -5.14359599e-03],\n",
              "       [ 2.78232697e+00,  1.56765052e+00],\n",
              "       [ 3.44679939e-01,  1.15718228e+00],\n",
              "       [ 1.39975837e-01, -1.37180007e+00],\n",
              "       [-3.88653583e-01, -6.26950406e-01],\n",
              "       [ 8.90296242e-01,  1.20897763e+00],\n",
              "       [-2.11511254e+00, -8.69082742e-01],\n",
              "       [ 1.53876950e+00,  9.41672646e-01],\n",
              "       [-9.55191741e-01,  7.37420803e-02],\n",
              "       [ 8.82313156e-01,  5.32921415e-01],\n",
              "       [ 2.34989155e+00,  8.29833926e-01],\n",
              "       [-1.92049678e+00, -3.60132197e-01],\n",
              "       [-2.87712763e-01,  6.18405808e-01],\n",
              "       [-3.45905372e-01, -8.12025175e-01],\n",
              "       [-1.23513098e+00,  3.27708380e-01],\n",
              "       [-5.77277361e-01,  8.63696976e-01],\n",
              "       [ 4.07524173e+00,  3.87231418e+00],\n",
              "       [-2.46931957e-02, -2.70469134e-01],\n",
              "       [ 6.55455898e-01, -1.15794690e+00],\n",
              "       [ 2.24280443e-01,  4.75115021e-01],\n",
              "       [-2.27674156e+00, -2.21301311e+00],\n",
              "       [ 1.56550929e+00,  8.00798043e-01],\n",
              "       [-1.67498313e+00, -1.03161099e+00],\n",
              "       [ 6.82660593e-01,  9.64189572e-01],\n",
              "       [-5.58143763e-01,  3.77951126e-01],\n",
              "       [ 1.31538064e+00,  7.51756658e-01],\n",
              "       [ 1.25646613e+00, -2.48446483e-01],\n",
              "       [-6.04877905e-01, -2.52967805e-01],\n",
              "       [ 8.69854666e-02, -1.29155111e-01],\n",
              "       [ 2.55409335e+00,  1.64080127e+00],\n",
              "       [ 9.03862686e-01,  3.17397881e-02],\n",
              "       [ 1.06864015e-01,  4.22870829e-01],\n",
              "       [-3.24640717e+00, -2.38805928e+00],\n",
              "       [-4.03232260e-01, -3.77374554e-01],\n",
              "       [ 3.24092670e+00,  2.50816540e+00],\n",
              "       [-1.10515806e+00,  1.20643229e+00],\n",
              "       [ 2.00947022e-01,  4.10217752e-01],\n",
              "       [ 5.34668094e-01, -5.64323584e-01],\n",
              "       [-2.23027608e+00, -1.10966512e+00],\n",
              "       [-9.61076166e-01, -1.51434130e+00],\n",
              "       [-1.79025939e+00, -2.57545546e+00],\n",
              "       [-1.88053926e+00,  3.71871226e-01],\n",
              "       [ 1.89826613e+00,  1.00638757e+00],\n",
              "       [ 3.74086026e-02, -3.93750682e-01],\n",
              "       [ 2.58249843e+00,  2.07395204e+00],\n",
              "       [ 1.59532925e+00,  1.64344966e+00],\n",
              "       [ 9.16194789e-01,  2.01740789e+00],\n",
              "       [ 1.44979347e+00,  8.61407990e-01],\n",
              "       [-8.67927649e-01, -1.71167853e+00],\n",
              "       [-9.15570675e-01,  3.83244893e-01],\n",
              "       [ 2.63085217e+00,  2.20921401e+00],\n",
              "       [-7.56085937e-01,  6.64575371e-02],\n",
              "       [ 2.62040590e+00,  9.36665561e-01],\n",
              "       [-9.99674000e-01, -5.31031809e-01],\n",
              "       [-5.62864592e-01, -1.48428139e-01],\n",
              "       [ 1.05013315e+00,  1.01503023e+00],\n",
              "       [-2.02271524e-01, -7.58039200e-01],\n",
              "       [-3.33399162e+00, -2.20504575e+00],\n",
              "       [ 1.73793553e+00,  1.90849480e+00],\n",
              "       [ 1.32007621e+00,  1.69189622e+00],\n",
              "       [-1.61599194e+00, -1.95116491e+00],\n",
              "       [-1.78998608e+00, -1.05081104e+00],\n",
              "       [-2.15682107e+00, -9.05423975e-02],\n",
              "       [ 7.20239863e-01, -7.08503027e-02],\n",
              "       [ 1.82987825e+00,  7.43382117e-01],\n",
              "       [-9.22296866e-03,  2.79392932e-01],\n",
              "       [-8.02865316e-01,  6.80395223e-02],\n",
              "       [-6.14199046e-01,  7.41528768e-01],\n",
              "       [-6.62929644e-01,  1.76755237e+00],\n",
              "       [-7.03979522e-01, -1.26972915e+00],\n",
              "       [ 1.60616933e+00,  1.65937321e+00],\n",
              "       [ 8.52312940e-02,  6.66362146e-01],\n",
              "       [-7.66986145e-01, -6.60026598e-01],\n",
              "       [ 2.04281648e+00,  3.22394242e-01],\n",
              "       [ 4.02697699e-01,  1.03385800e+00],\n",
              "       [ 1.47222781e-01, -9.31568718e-01],\n",
              "       [-4.48554246e-01, -2.65242124e-02],\n",
              "       [ 1.42527202e+00,  1.24195973e+00],\n",
              "       [ 3.67766863e-01, -6.73039640e-01],\n",
              "       [-8.30829161e-01, -1.77589491e-01],\n",
              "       [-2.25266548e+00, -8.73552939e-01],\n",
              "       [ 2.70137497e+00,  1.32132437e+00],\n",
              "       [-1.07639365e+00, -4.08802883e-01],\n",
              "       [-2.43702590e+00,  1.33381970e+00],\n",
              "       [-1.42379575e+00, -1.57703285e-01],\n",
              "       [-1.87143803e+00, -9.13955698e-01],\n",
              "       [ 2.21456662e-01,  8.10500903e-01],\n",
              "       [ 1.39750225e+00,  8.92190863e-01],\n",
              "       [ 7.83713416e-01,  6.80685546e-01],\n",
              "       [-3.13566656e+00, -4.01690145e+00],\n",
              "       [-4.98095514e-01, -1.74370712e+00],\n",
              "       [ 3.50721129e-01,  1.18863739e+00],\n",
              "       [ 3.30967013e-01, -6.46977621e-01],\n",
              "       [ 9.27231456e-01,  1.29487504e+00],\n",
              "       [ 1.14131684e+00,  1.07295519e+00],\n",
              "       [ 1.88808263e-01, -3.99977583e-01],\n",
              "       [-3.86750607e+00, -2.48711655e+00],\n",
              "       [ 3.33321179e+00,  2.75912915e+00],\n",
              "       [ 7.66708735e-01,  1.31473793e+00],\n",
              "       [ 1.38091018e+00,  9.81794619e-01],\n",
              "       [-1.20290506e+00, -2.11898657e-01],\n",
              "       [ 2.15692668e+00,  1.40307059e+00],\n",
              "       [ 1.06576842e+00,  2.83279817e-01],\n",
              "       [-3.13705251e+00, -2.10912067e+00],\n",
              "       [ 1.74858711e+00,  2.13633049e+00],\n",
              "       [-3.99323414e+00, -2.25047244e+00],\n",
              "       [ 2.75508130e+00,  1.74430845e+00],\n",
              "       [-1.84438636e+00, -2.03455036e+00],\n",
              "       [-1.06280147e+00, -1.79057879e-01],\n",
              "       [ 1.58468157e+00,  1.18727608e+00],\n",
              "       [ 5.87389092e+00,  3.72563070e+00],\n",
              "       [ 9.33649803e-01, -3.19262510e-01],\n",
              "       [-2.16527593e+00, -2.89202558e+00],\n",
              "       [ 6.87508881e-01,  6.46622896e-01],\n",
              "       [-1.84117673e+00, -2.64378246e+00],\n",
              "       [-1.96227794e+00, -1.52350376e+00],\n",
              "       [ 1.46399792e+00,  1.53125764e+00],\n",
              "       [-9.05168512e-02, -5.74901958e-01],\n",
              "       [ 3.95071382e-02, -2.92846941e-01],\n",
              "       [-4.60915293e-01,  1.96369122e-01],\n",
              "       [-2.16554621e+00, -2.73066801e+00],\n",
              "       [-2.79534777e+00, -3.82244612e+00],\n",
              "       [ 1.57823227e-02,  5.06554359e-01],\n",
              "       [-2.19282539e-01, -6.94326325e-01],\n",
              "       [ 5.51256377e-01,  1.62491097e-02],\n",
              "       [ 6.45945380e-01,  1.21807029e+00],\n",
              "       [-3.18652773e-01, -8.30894146e-01],\n",
              "       [-1.63963965e+00, -1.02203662e+00],\n",
              "       [-1.62497080e+00, -7.39802006e-01],\n",
              "       [ 1.62382965e+00,  7.97252537e-01],\n",
              "       [-1.50674280e+00, -6.63671061e-01],\n",
              "       [-1.26241652e-02,  8.87074137e-02],\n",
              "       [-1.90979922e+00, -1.98809183e+00],\n",
              "       [-8.38608704e-01, -8.24623335e-01],\n",
              "       [-8.12969438e-02,  8.59582687e-01],\n",
              "       [-1.72103594e+00, -6.60333325e-01],\n",
              "       [-2.20624483e+00, -1.70493906e+00],\n",
              "       [-1.02158912e+00, -1.05828072e+00],\n",
              "       [-4.92679320e-01, -4.94002606e-01],\n",
              "       [-4.05811078e-01,  1.83130155e-01],\n",
              "       [ 5.24777324e-01,  2.16750068e+00],\n",
              "       [ 2.18834124e+00,  6.88592995e-01],\n",
              "       [-2.27220223e+00, -1.10902409e+00],\n",
              "       [-1.30671287e+00, -4.92391819e-01],\n",
              "       [ 3.86245367e-01, -4.52191704e-01],\n",
              "       [ 1.48329701e-01, -4.53055809e-01],\n",
              "       [-1.58162304e+00, -1.35843351e+00],\n",
              "       [ 1.52063291e+00,  9.17285370e-01],\n",
              "       [-4.65426106e-01, -8.36965887e-01],\n",
              "       [ 1.28485088e+00,  1.20789734e+00],\n",
              "       [-2.05806774e-01, -5.86560495e-01],\n",
              "       [ 6.98401600e-01,  7.40235361e-01],\n",
              "       [ 3.01129036e+00,  1.16876619e+00],\n",
              "       [ 1.29643170e+00,  8.32911188e-01],\n",
              "       [-1.12459569e+00,  3.61355396e-01],\n",
              "       [-1.37863781e+00, -1.21076859e+00],\n",
              "       [ 4.40540533e-01, -4.98238445e-01],\n",
              "       [ 1.48793241e-01, -1.26321300e-01],\n",
              "       [-2.06180615e-01, -8.55918846e-01],\n",
              "       [-1.49887194e+00,  1.17335224e-01],\n",
              "       [ 1.93939510e-02,  3.52611213e-01],\n",
              "       [-9.98314756e-01, -1.11651679e+00],\n",
              "       [-3.82376000e-01, -2.87971570e-01],\n",
              "       [ 1.50568265e-01, -5.31827774e-01],\n",
              "       [-2.44194198e-01,  2.27695961e-01],\n",
              "       [-2.83380301e+00, -1.40670495e+00],\n",
              "       [-3.31204587e+00, -3.23059849e+00],\n",
              "       [-1.54320453e+00, -1.05087624e+00],\n",
              "       [-3.35700667e+00, -3.30010459e+00],\n",
              "       [ 1.65786617e+00,  7.90886675e-01],\n",
              "       [ 3.78967945e+00,  2.51721748e+00],\n",
              "       [ 1.21666375e+00,  1.07628474e+00],\n",
              "       [-1.33985779e+00,  5.29999062e-01],\n",
              "       [-1.36488796e+00, -1.55031594e+00],\n",
              "       [ 1.31196497e+00,  1.43760139e+00],\n",
              "       [ 1.47620933e+00,  2.69115624e+00],\n",
              "       [-1.79432035e+00, -1.79510678e+00],\n",
              "       [ 2.33224747e+00,  2.95832116e+00],\n",
              "       [-3.11586694e-01,  7.96581769e-01]])"
            ]
          },
          "metadata": {},
          "execution_count": 3
        }
      ]
    },
    {
      "cell_type": "markdown",
      "source": [
        "Visualisez la relation entre les deux fonctionnalités"
      ],
      "metadata": {
        "id": "ERzFfUY7kTso"
      }
    },
    {
      "cell_type": "code",
      "source": [
        "plt.figure()\n",
        "plt.scatter(X[:,0], X[:,1] ,edgecolor='k', alpha=0.7)\n",
        "plt.title(\"Nuage de points d'une distribution normale bivariée\")\n",
        "plt.xlabel(\"X1\")\n",
        "plt.ylabel(\"X2\")\n",
        "plt.axis('equal')\n",
        "plt.grid(True)\n",
        "plt.show()"
      ],
      "metadata": {
        "colab": {
          "base_uri": "https://localhost:8080/",
          "height": 472
        },
        "id": "xIne-i_FkGyU",
        "outputId": "77bb8d94-7314-4e9b-fdb8-41170acd22bc"
      },
      "execution_count": 5,
      "outputs": [
        {
          "output_type": "display_data",
          "data": {
            "text/plain": [
              "<Figure size 640x480 with 1 Axes>"
            ],
            "image/png": "[encoded data removed]"
          },
          "metadata": {}
        }
      ]
    },
    {
      "cell_type": "markdown",
      "source": [
        "Effectuer une ACP sur l'ensemble de données\n",
        "Ensuite, vous initialiserez un modèle ACP à deux composants avec des paramètres par défaut, puis vous ajusterez et transformerez l'espace des caractéristiques en une seule étape."
      ],
      "metadata": {
        "id": "grOUVINye0_x"
      }
    },
    {
      "cell_type": "code",
      "source": [
        "pca = PCA(n_components=2)\n",
        "X_pca = pca.fit_transform(X)"
      ],
      "metadata": {
        "id": "6M0sU124e1qz"
      },
      "execution_count": 6,
      "outputs": []
    },
    {
      "cell_type": "markdown",
      "source": [
        "Obtenez les composantes principales du modèle.\n",
        "Les composantes principales sont les axes principaux, représentés en coordonnées spatiales, qui s'alignent sur les directions de variance maximale de vos données."
      ],
      "metadata": {
        "id": "flNwKHBifWKY"
      }
    },
    {
      "cell_type": "code",
      "source": [
        "components = pca.components_\n",
        "components"
      ],
      "metadata": {
        "colab": {
          "base_uri": "https://localhost:8080/"
        },
        "id": "fiySIVMHe9lH",
        "outputId": "39f21479-b491-40e2-8739-f6ac2ebcb425"
      },
      "execution_count": 7,
      "outputs": [
        {
          "output_type": "execute_result",
          "data": {
            "text/plain": [
              "array([[ 0.78215821,  0.62307987],\n",
              "       [-0.62307987,  0.78215821]])"
            ]
          },
          "metadata": {},
          "execution_count": 7
        }
      ]
    },
    {
      "cell_type": "markdown",
      "source": [
        "Les composantes principales sont classées par ordre décroissant de leur variance expliquée, qui peut être exprimée sous forme de ratio :"
      ],
      "metadata": {
        "id": "fFCGXDAYf2i2"
      }
    },
    {
      "cell_type": "code",
      "source": [
        "pca.explained_variance_ratio_"
      ],
      "metadata": {
        "colab": {
          "base_uri": "https://localhost:8080/"
        },
        "id": "5uGWG086fmyM",
        "outputId": "7b6d53bd-264a-42dd-96bd-4076600d9e0f"
      },
      "execution_count": 8,
      "outputs": [
        {
          "output_type": "execute_result",
          "data": {
            "text/plain": [
              "array([0.9111946, 0.0888054])"
            ]
          },
          "metadata": {},
          "execution_count": 8
        }
      ]
    },
    {
      "cell_type": "markdown",
      "source": [
        "Quel pourcentage de la variance des données est expliqué par la première composante principale ?"
      ],
      "metadata": {
        "id": "9dm3SjyzgqGb"
      }
    },
    {
      "cell_type": "markdown",
      "source": [
        "Le premier composant explique plus de 90 % de la variance des données, tandis que le second explique environ 9 %."
      ],
      "metadata": {
        "id": "q-B6dSe8ikgc"
      }
    },
    {
      "cell_type": "markdown",
      "source": [
        "Visualisations des résultats"
      ],
      "metadata": {
        "id": "lt4kX9FHipuY"
      }
    },
    {
      "cell_type": "code",
      "source": [
        "projection_pc1 = np.dot(X, components[0])\n",
        "projection_pc2 = np.dot(X, components[1])"
      ],
      "metadata": {
        "id": "tmi3ao85f_8D"
      },
      "execution_count": 9,
      "outputs": []
    },
    {
      "cell_type": "markdown",
      "source": [
        "Maintenant que vous disposez de ces coordonnées, vous pouvez les utiliser pour représenter les projections de chaque point de données selon les directions principales de l'espace des caractéristiques d'origine."
      ],
      "metadata": {
        "id": "g-hyhbNti6xa"
      }
    },
    {
      "cell_type": "code",
      "source": [
        "x_pc1 = projection_pc1 * components[0][0]\n",
        "y_pc1 = projection_pc1 * components[0][1]\n",
        "x_pc2 = projection_pc2 * components[1][0]\n",
        "y_pc2 = projection_pc2 * components[1][1]"
      ],
      "metadata": {
        "id": "jO1WAk9jiwum"
      },
      "execution_count": 10,
      "outputs": []
    },
    {
      "cell_type": "code",
      "source": [
        "plt.figure()\n",
        "plt.scatter(X[:, 0], X[:, 1], label='Original Data', ec='k', s=50, alpha=0.6)\n",
        "\n",
        "# Plot the projections along PC1 and PC2\n",
        "plt.scatter(x_pc1, y_pc1, c='r', ec='k', marker='X', s=70, alpha=0.5, label='Projection onto PC 1')\n",
        "plt.scatter(x_pc2, y_pc2, c='b', ec='k', marker='X', s=70, alpha=0.5, label='Projection onto PC 2')\n",
        "plt.title('Linearly Correlated Data Projected onto Principal Components', )\n",
        "plt.xlabel('Feature 1',)\n",
        "plt.ylabel('Feature 2',)\n",
        "plt.legend()\n",
        "plt.grid(True)\n",
        "plt.axis('equal')\n",
        "plt.show()"
      ],
      "metadata": {
        "colab": {
          "base_uri": "https://localhost:8080/",
          "height": 472
        },
        "id": "GDumNIBTi_V1",
        "outputId": "8c2cb3cf-2852-4522-ab2c-010100952f9f"
      },
      "execution_count": 11,
      "outputs": [
        {
          "output_type": "display_data",
          "data": {
            "text/plain": [
              "<Figure size 640x480 with 1 Axes>"
            ],
            "image/png": "[encoded data removed]"
          },
          "metadata": {}
        }
      ]
    },
    {
      "cell_type": "markdown",
      "source": [
        "Les données varient dans deux directions principales.\n",
        "\n",
        "La première direction, en rouge, correspond à la direction présentant la plus grande variation."
      ],
      "metadata": {
        "id": "A99ILkI6j3mF"
      }
    },
    {
      "cell_type": "markdown",
      "source": [
        "La deuxième direction, en bleu, est perpendiculaire à la première et présente une variance plus faible."
      ],
      "metadata": {
        "id": "MMruyY80kIKz"
      }
    },
    {
      "cell_type": "markdown",
      "source": [
        "# **PCA pour la réduction de la dimensionnalité de l'espace des caractéristiques**"
      ],
      "metadata": {
        "id": "I-FPHjtPkkpy"
      }
    },
    {
      "cell_type": "markdown",
      "source": [
        "Pour cette deuxième application, vous utiliserez l'ACP pour projeter l'ensemble de données d'entités Iris quadridimensionnelles sur un espace d'entités bidimensionnel.\n",
        "\n",
        "Cela vous permettra également de visualiser certaines des structures les plus importantes de l'ensemble de données."
      ],
      "metadata": {
        "id": "2WU7h5y0lPsO"
      }
    },
    {
      "cell_type": "markdown",
      "source": [
        "Chargement et prétraitement des données de l'iris"
      ],
      "metadata": {
        "id": "74O8lNp7lfPk"
      }
    },
    {
      "cell_type": "code",
      "source": [
        "iris = datasets.load_iris()\n",
        "X = iris.data\n",
        "y = iris.target\n",
        "target_names = iris.target_names\n",
        "\n",
        "# Standardize the data\n",
        "scaler = StandardScaler()\n",
        "X_scaled = scaler.fit_transform(X)"
      ],
      "metadata": {
        "id": "0Fj8zuhxjHna"
      },
      "execution_count": 12,
      "outputs": []
    },
    {
      "cell_type": "code",
      "source": [
        "np.unique(iris.target)"
      ],
      "metadata": {
        "colab": {
          "base_uri": "https://localhost:8080/"
        },
        "id": "mFo823DksEWQ",
        "outputId": "6a095521-795f-43ab-f9e5-e43e0dab0005"
      },
      "execution_count": 22,
      "outputs": [
        {
          "output_type": "execute_result",
          "data": {
            "text/plain": [
              "array([0, 1, 2])"
            ]
          },
          "metadata": {},
          "execution_count": 22
        }
      ]
    },
    {
      "cell_type": "code",
      "source": [
        "X"
      ],
      "metadata": {
        "colab": {
          "base_uri": "https://localhost:8080/"
        },
        "collapsed": true,
        "id": "9F9RI8_GmAAd",
        "outputId": "e66577a8-a684-4480-b93f-89aa3294c746"
      },
      "execution_count": 13,
      "outputs": [
        {
          "output_type": "execute_result",
          "data": {
            "text/plain": [
              "array([[5.1, 3.5, 1.4, 0.2],\n",
              "       [4.9, 3. , 1.4, 0.2],\n",
              "       [4.7, 3.2, 1.3, 0.2],\n",
              "       [4.6, 3.1, 1.5, 0.2],\n",
              "       [5. , 3.6, 1.4, 0.2],\n",
              "       [5.4, 3.9, 1.7, 0.4],\n",
              "       [4.6, 3.4, 1.4, 0.3],\n",
              "       [5. , 3.4, 1.5, 0.2],\n",
              "       [4.4, 2.9, 1.4, 0.2],\n",
              "       [4.9, 3.1, 1.5, 0.1],\n",
              "       [5.4, 3.7, 1.5, 0.2],\n",
              "       [4.8, 3.4, 1.6, 0.2],\n",
              "       [4.8, 3. , 1.4, 0.1],\n",
              "       [4.3, 3. , 1.1, 0.1],\n",
              "       [5.8, 4. , 1.2, 0.2],\n",
              "       [5.7, 4.4, 1.5, 0.4],\n",
              "       [5.4, 3.9, 1.3, 0.4],\n",
              "       [5.1, 3.5, 1.4, 0.3],\n",
              "       [5.7, 3.8, 1.7, 0.3],\n",
              "       [5.1, 3.8, 1.5, 0.3],\n",
              "       [5.4, 3.4, 1.7, 0.2],\n",
              "       [5.1, 3.7, 1.5, 0.4],\n",
              "       [4.6, 3.6, 1. , 0.2],\n",
              "       [5.1, 3.3, 1.7, 0.5],\n",
              "       [4.8, 3.4, 1.9, 0.2],\n",
              "       [5. , 3. , 1.6, 0.2],\n",
              "       [5. , 3.4, 1.6, 0.4],\n",
              "       [5.2, 3.5, 1.5, 0.2],\n",
              "       [5.2, 3.4, 1.4, 0.2],\n",
              "       [4.7, 3.2, 1.6, 0.2],\n",
              "       [4.8, 3.1, 1.6, 0.2],\n",
              "       [5.4, 3.4, 1.5, 0.4],\n",
              "       [5.2, 4.1, 1.5, 0.1],\n",
              "       [5.5, 4.2, 1.4, 0.2],\n",
              "       [4.9, 3.1, 1.5, 0.2],\n",
              "       [5. , 3.2, 1.2, 0.2],\n",
              "       [5.5, 3.5, 1.3, 0.2],\n",
              "       [4.9, 3.6, 1.4, 0.1],\n",
              "       [4.4, 3. , 1.3, 0.2],\n",
              "       [5.1, 3.4, 1.5, 0.2],\n",
              "       [5. , 3.5, 1.3, 0.3],\n",
              "       [4.5, 2.3, 1.3, 0.3],\n",
              "       [4.4, 3.2, 1.3, 0.2],\n",
              "       [5. , 3.5, 1.6, 0.6],\n",
              "       [5.1, 3.8, 1.9, 0.4],\n",
              "       [4.8, 3. , 1.4, 0.3],\n",
              "       [5.1, 3.8, 1.6, 0.2],\n",
              "       [4.6, 3.2, 1.4, 0.2],\n",
              "       [5.3, 3.7, 1.5, 0.2],\n",
              "       [5. , 3.3, 1.4, 0.2],\n",
              "       [7. , 3.2, 4.7, 1.4],\n",
              "       [6.4, 3.2, 4.5, 1.5],\n",
              "       [6.9, 3.1, 4.9, 1.5],\n",
              "       [5.5, 2.3, 4. , 1.3],\n",
              "       [6.5, 2.8, 4.6, 1.5],\n",
              "       [5.7, 2.8, 4.5, 1.3],\n",
              "       [6.3, 3.3, 4.7, 1.6],\n",
              "       [4.9, 2.4, 3.3, 1. ],\n",
              "       [6.6, 2.9, 4.6, 1.3],\n",
              "       [5.2, 2.7, 3.9, 1.4],\n",
              "       [5. , 2. , 3.5, 1. ],\n",
              "       [5.9, 3. , 4.2, 1.5],\n",
              "       [6. , 2.2, 4. , 1. ],\n",
              "       [6.1, 2.9, 4.7, 1.4],\n",
              "       [5.6, 2.9, 3.6, 1.3],\n",
              "       [6.7, 3.1, 4.4, 1.4],\n",
              "       [5.6, 3. , 4.5, 1.5],\n",
              "       [5.8, 2.7, 4.1, 1. ],\n",
              "       [6.2, 2.2, 4.5, 1.5],\n",
              "       [5.6, 2.5, 3.9, 1.1],\n",
              "       [5.9, 3.2, 4.8, 1.8],\n",
              "       [6.1, 2.8, 4. , 1.3],\n",
              "       [6.3, 2.5, 4.9, 1.5],\n",
              "       [6.1, 2.8, 4.7, 1.2],\n",
              "       [6.4, 2.9, 4.3, 1.3],\n",
              "       [6.6, 3. , 4.4, 1.4],\n",
              "       [6.8, 2.8, 4.8, 1.4],\n",
              "       [6.7, 3. , 5. , 1.7],\n",
              "       [6. , 2.9, 4.5, 1.5],\n",
              "       [5.7, 2.6, 3.5, 1. ],\n",
              "       [5.5, 2.4, 3.8, 1.1],\n",
              "       [5.5, 2.4, 3.7, 1. ],\n",
              "       [5.8, 2.7, 3.9, 1.2],\n",
              "       [6. , 2.7, 5.1, 1.6],\n",
              "       [5.4, 3. , 4.5, 1.5],\n",
              "       [6. , 3.4, 4.5, 1.6],\n",
              "       [6.7, 3.1, 4.7, 1.5],\n",
              "       [6.3, 2.3, 4.4, 1.3],\n",
              "       [5.6, 3. , 4.1, 1.3],\n",
              "       [5.5, 2.5, 4. , 1.3],\n",
              "       [5.5, 2.6, 4.4, 1.2],\n",
              "       [6.1, 3. , 4.6, 1.4],\n",
              "       [5.8, 2.6, 4. , 1.2],\n",
              "       [5. , 2.3, 3.3, 1. ],\n",
              "       [5.6, 2.7, 4.2, 1.3],\n",
              "       [5.7, 3. , 4.2, 1.2],\n",
              "       [5.7, 2.9, 4.2, 1.3],\n",
              "       [6.2, 2.9, 4.3, 1.3],\n",
              "       [5.1, 2.5, 3. , 1.1],\n",
              "       [5.7, 2.8, 4.1, 1.3],\n",
              "       [6.3, 3.3, 6. , 2.5],\n",
              "       [5.8, 2.7, 5.1, 1.9],\n",
              "       [7.1, 3. , 5.9, 2.1],\n",
              "       [6.3, 2.9, 5.6, 1.8],\n",
              "       [6.5, 3. , 5.8, 2.2],\n",
              "       [7.6, 3. , 6.6, 2.1],\n",
              "       [4.9, 2.5, 4.5, 1.7],\n",
              "       [7.3, 2.9, 6.3, 1.8],\n",
              "       [6.7, 2.5, 5.8, 1.8],\n",
              "       [7.2, 3.6, 6.1, 2.5],\n",
              "       [6.5, 3.2, 5.1, 2. ],\n",
              "       [6.4, 2.7, 5.3, 1.9],\n",
              "       [6.8, 3. , 5.5, 2.1],\n",
              "       [5.7, 2.5, 5. , 2. ],\n",
              "       [5.8, 2.8, 5.1, 2.4],\n",
              "       [6.4, 3.2, 5.3, 2.3],\n",
              "       [6.5, 3. , 5.5, 1.8],\n",
              "       [7.7, 3.8, 6.7, 2.2],\n",
              "       [7.7, 2.6, 6.9, 2.3],\n",
              "       [6. , 2.2, 5. , 1.5],\n",
              "       [6.9, 3.2, 5.7, 2.3],\n",
              "       [5.6, 2.8, 4.9, 2. ],\n",
              "       [7.7, 2.8, 6.7, 2. ],\n",
              "       [6.3, 2.7, 4.9, 1.8],\n",
              "       [6.7, 3.3, 5.7, 2.1],\n",
              "       [7.2, 3.2, 6. , 1.8],\n",
              "       [6.2, 2.8, 4.8, 1.8],\n",
              "       [6.1, 3. , 4.9, 1.8],\n",
              "       [6.4, 2.8, 5.6, 2.1],\n",
              "       [7.2, 3. , 5.8, 1.6],\n",
              "       [7.4, 2.8, 6.1, 1.9],\n",
              "       [7.9, 3.8, 6.4, 2. ],\n",
              "       [6.4, 2.8, 5.6, 2.2],\n",
              "       [6.3, 2.8, 5.1, 1.5],\n",
              "       [6.1, 2.6, 5.6, 1.4],\n",
              "       [7.7, 3. , 6.1, 2.3],\n",
              "       [6.3, 3.4, 5.6, 2.4],\n",
              "       [6.4, 3.1, 5.5, 1.8],\n",
              "       [6. , 3. , 4.8, 1.8],\n",
              "       [6.9, 3.1, 5.4, 2.1],\n",
              "       [6.7, 3.1, 5.6, 2.4],\n",
              "       [6.9, 3.1, 5.1, 2.3],\n",
              "       [5.8, 2.7, 5.1, 1.9],\n",
              "       [6.8, 3.2, 5.9, 2.3],\n",
              "       [6.7, 3.3, 5.7, 2.5],\n",
              "       [6.7, 3. , 5.2, 2.3],\n",
              "       [6.3, 2.5, 5. , 1.9],\n",
              "       [6.5, 3. , 5.2, 2. ],\n",
              "       [6.2, 3.4, 5.4, 2.3],\n",
              "       [5.9, 3. , 5.1, 1.8]])"
            ]
          },
          "metadata": {},
          "execution_count": 13
        }
      ]
    },
    {
      "cell_type": "code",
      "source": [
        "y"
      ],
      "metadata": {
        "collapsed": true,
        "colab": {
          "base_uri": "https://localhost:8080/"
        },
        "id": "Q_2wwQsCmCQn",
        "outputId": "688705fe-dd52-4317-e906-ffeb7acd4a06"
      },
      "execution_count": 14,
      "outputs": [
        {
          "output_type": "execute_result",
          "data": {
            "text/plain": [
              "array([0, 0, 0, 0, 0, 0, 0, 0, 0, 0, 0, 0, 0, 0, 0, 0, 0, 0, 0, 0, 0, 0,\n",
              "       0, 0, 0, 0, 0, 0, 0, 0, 0, 0, 0, 0, 0, 0, 0, 0, 0, 0, 0, 0, 0, 0,\n",
              "       0, 0, 0, 0, 0, 0, 1, 1, 1, 1, 1, 1, 1, 1, 1, 1, 1, 1, 1, 1, 1, 1,\n",
              "       1, 1, 1, 1, 1, 1, 1, 1, 1, 1, 1, 1, 1, 1, 1, 1, 1, 1, 1, 1, 1, 1,\n",
              "       1, 1, 1, 1, 1, 1, 1, 1, 1, 1, 1, 1, 2, 2, 2, 2, 2, 2, 2, 2, 2, 2,\n",
              "       2, 2, 2, 2, 2, 2, 2, 2, 2, 2, 2, 2, 2, 2, 2, 2, 2, 2, 2, 2, 2, 2,\n",
              "       2, 2, 2, 2, 2, 2, 2, 2, 2, 2, 2, 2, 2, 2, 2, 2, 2, 2])"
            ]
          },
          "metadata": {},
          "execution_count": 14
        }
      ]
    },
    {
      "cell_type": "code",
      "source": [
        "X_scaled"
      ],
      "metadata": {
        "colab": {
          "base_uri": "https://localhost:8080/"
        },
        "collapsed": true,
        "id": "SoC1rOr0mGLB",
        "outputId": "8baaf554-e2f1-4822-a4ed-6a07ed113d34"
      },
      "execution_count": 15,
      "outputs": [
        {
          "output_type": "execute_result",
          "data": {
            "text/plain": [
              "array([[-9.00681170e-01,  1.01900435e+00, -1.34022653e+00,\n",
              "        -1.31544430e+00],\n",
              "       [-1.14301691e+00, -1.31979479e-01, -1.34022653e+00,\n",
              "        -1.31544430e+00],\n",
              "       [-1.38535265e+00,  3.28414053e-01, -1.39706395e+00,\n",
              "        -1.31544430e+00],\n",
              "       [-1.50652052e+00,  9.82172869e-02, -1.28338910e+00,\n",
              "        -1.31544430e+00],\n",
              "       [-1.02184904e+00,  1.24920112e+00, -1.34022653e+00,\n",
              "        -1.31544430e+00],\n",
              "       [-5.37177559e-01,  1.93979142e+00, -1.16971425e+00,\n",
              "        -1.05217993e+00],\n",
              "       [-1.50652052e+00,  7.88807586e-01, -1.34022653e+00,\n",
              "        -1.18381211e+00],\n",
              "       [-1.02184904e+00,  7.88807586e-01, -1.28338910e+00,\n",
              "        -1.31544430e+00],\n",
              "       [-1.74885626e+00, -3.62176246e-01, -1.34022653e+00,\n",
              "        -1.31544430e+00],\n",
              "       [-1.14301691e+00,  9.82172869e-02, -1.28338910e+00,\n",
              "        -1.44707648e+00],\n",
              "       [-5.37177559e-01,  1.47939788e+00, -1.28338910e+00,\n",
              "        -1.31544430e+00],\n",
              "       [-1.26418478e+00,  7.88807586e-01, -1.22655167e+00,\n",
              "        -1.31544430e+00],\n",
              "       [-1.26418478e+00, -1.31979479e-01, -1.34022653e+00,\n",
              "        -1.44707648e+00],\n",
              "       [-1.87002413e+00, -1.31979479e-01, -1.51073881e+00,\n",
              "        -1.44707648e+00],\n",
              "       [-5.25060772e-02,  2.16998818e+00, -1.45390138e+00,\n",
              "        -1.31544430e+00],\n",
              "       [-1.73673948e-01,  3.09077525e+00, -1.28338910e+00,\n",
              "        -1.05217993e+00],\n",
              "       [-5.37177559e-01,  1.93979142e+00, -1.39706395e+00,\n",
              "        -1.05217993e+00],\n",
              "       [-9.00681170e-01,  1.01900435e+00, -1.34022653e+00,\n",
              "        -1.18381211e+00],\n",
              "       [-1.73673948e-01,  1.70959465e+00, -1.16971425e+00,\n",
              "        -1.18381211e+00],\n",
              "       [-9.00681170e-01,  1.70959465e+00, -1.28338910e+00,\n",
              "        -1.18381211e+00],\n",
              "       [-5.37177559e-01,  7.88807586e-01, -1.16971425e+00,\n",
              "        -1.31544430e+00],\n",
              "       [-9.00681170e-01,  1.47939788e+00, -1.28338910e+00,\n",
              "        -1.05217993e+00],\n",
              "       [-1.50652052e+00,  1.24920112e+00, -1.56757623e+00,\n",
              "        -1.31544430e+00],\n",
              "       [-9.00681170e-01,  5.58610819e-01, -1.16971425e+00,\n",
              "        -9.20547742e-01],\n",
              "       [-1.26418478e+00,  7.88807586e-01, -1.05603939e+00,\n",
              "        -1.31544430e+00],\n",
              "       [-1.02184904e+00, -1.31979479e-01, -1.22655167e+00,\n",
              "        -1.31544430e+00],\n",
              "       [-1.02184904e+00,  7.88807586e-01, -1.22655167e+00,\n",
              "        -1.05217993e+00],\n",
              "       [-7.79513300e-01,  1.01900435e+00, -1.28338910e+00,\n",
              "        -1.31544430e+00],\n",
              "       [-7.79513300e-01,  7.88807586e-01, -1.34022653e+00,\n",
              "        -1.31544430e+00],\n",
              "       [-1.38535265e+00,  3.28414053e-01, -1.22655167e+00,\n",
              "        -1.31544430e+00],\n",
              "       [-1.26418478e+00,  9.82172869e-02, -1.22655167e+00,\n",
              "        -1.31544430e+00],\n",
              "       [-5.37177559e-01,  7.88807586e-01, -1.28338910e+00,\n",
              "        -1.05217993e+00],\n",
              "       [-7.79513300e-01,  2.40018495e+00, -1.28338910e+00,\n",
              "        -1.44707648e+00],\n",
              "       [-4.16009689e-01,  2.63038172e+00, -1.34022653e+00,\n",
              "        -1.31544430e+00],\n",
              "       [-1.14301691e+00,  9.82172869e-02, -1.28338910e+00,\n",
              "        -1.31544430e+00],\n",
              "       [-1.02184904e+00,  3.28414053e-01, -1.45390138e+00,\n",
              "        -1.31544430e+00],\n",
              "       [-4.16009689e-01,  1.01900435e+00, -1.39706395e+00,\n",
              "        -1.31544430e+00],\n",
              "       [-1.14301691e+00,  1.24920112e+00, -1.34022653e+00,\n",
              "        -1.44707648e+00],\n",
              "       [-1.74885626e+00, -1.31979479e-01, -1.39706395e+00,\n",
              "        -1.31544430e+00],\n",
              "       [-9.00681170e-01,  7.88807586e-01, -1.28338910e+00,\n",
              "        -1.31544430e+00],\n",
              "       [-1.02184904e+00,  1.01900435e+00, -1.39706395e+00,\n",
              "        -1.18381211e+00],\n",
              "       [-1.62768839e+00, -1.74335684e+00, -1.39706395e+00,\n",
              "        -1.18381211e+00],\n",
              "       [-1.74885626e+00,  3.28414053e-01, -1.39706395e+00,\n",
              "        -1.31544430e+00],\n",
              "       [-1.02184904e+00,  1.01900435e+00, -1.22655167e+00,\n",
              "        -7.88915558e-01],\n",
              "       [-9.00681170e-01,  1.70959465e+00, -1.05603939e+00,\n",
              "        -1.05217993e+00],\n",
              "       [-1.26418478e+00, -1.31979479e-01, -1.34022653e+00,\n",
              "        -1.18381211e+00],\n",
              "       [-9.00681170e-01,  1.70959465e+00, -1.22655167e+00,\n",
              "        -1.31544430e+00],\n",
              "       [-1.50652052e+00,  3.28414053e-01, -1.34022653e+00,\n",
              "        -1.31544430e+00],\n",
              "       [-6.58345429e-01,  1.47939788e+00, -1.28338910e+00,\n",
              "        -1.31544430e+00],\n",
              "       [-1.02184904e+00,  5.58610819e-01, -1.34022653e+00,\n",
              "        -1.31544430e+00],\n",
              "       [ 1.40150837e+00,  3.28414053e-01,  5.35408562e-01,\n",
              "         2.64141916e-01],\n",
              "       [ 6.74501145e-01,  3.28414053e-01,  4.21733708e-01,\n",
              "         3.95774101e-01],\n",
              "       [ 1.28034050e+00,  9.82172869e-02,  6.49083415e-01,\n",
              "         3.95774101e-01],\n",
              "       [-4.16009689e-01, -1.74335684e+00,  1.37546573e-01,\n",
              "         1.32509732e-01],\n",
              "       [ 7.95669016e-01, -5.92373012e-01,  4.78571135e-01,\n",
              "         3.95774101e-01],\n",
              "       [-1.73673948e-01, -5.92373012e-01,  4.21733708e-01,\n",
              "         1.32509732e-01],\n",
              "       [ 5.53333275e-01,  5.58610819e-01,  5.35408562e-01,\n",
              "         5.27406285e-01],\n",
              "       [-1.14301691e+00, -1.51316008e+00, -2.60315415e-01,\n",
              "        -2.62386821e-01],\n",
              "       [ 9.16836886e-01, -3.62176246e-01,  4.78571135e-01,\n",
              "         1.32509732e-01],\n",
              "       [-7.79513300e-01, -8.22569778e-01,  8.07091462e-02,\n",
              "         2.64141916e-01],\n",
              "       [-1.02184904e+00, -2.43394714e+00, -1.46640561e-01,\n",
              "        -2.62386821e-01],\n",
              "       [ 6.86617933e-02, -1.31979479e-01,  2.51221427e-01,\n",
              "         3.95774101e-01],\n",
              "       [ 1.89829664e-01, -1.97355361e+00,  1.37546573e-01,\n",
              "        -2.62386821e-01],\n",
              "       [ 3.10997534e-01, -3.62176246e-01,  5.35408562e-01,\n",
              "         2.64141916e-01],\n",
              "       [-2.94841818e-01, -3.62176246e-01, -8.98031345e-02,\n",
              "         1.32509732e-01],\n",
              "       [ 1.03800476e+00,  9.82172869e-02,  3.64896281e-01,\n",
              "         2.64141916e-01],\n",
              "       [-2.94841818e-01, -1.31979479e-01,  4.21733708e-01,\n",
              "         3.95774101e-01],\n",
              "       [-5.25060772e-02, -8.22569778e-01,  1.94384000e-01,\n",
              "        -2.62386821e-01],\n",
              "       [ 4.32165405e-01, -1.97355361e+00,  4.21733708e-01,\n",
              "         3.95774101e-01],\n",
              "       [-2.94841818e-01, -1.28296331e+00,  8.07091462e-02,\n",
              "        -1.30754636e-01],\n",
              "       [ 6.86617933e-02,  3.28414053e-01,  5.92245988e-01,\n",
              "         7.90670654e-01],\n",
              "       [ 3.10997534e-01, -5.92373012e-01,  1.37546573e-01,\n",
              "         1.32509732e-01],\n",
              "       [ 5.53333275e-01, -1.28296331e+00,  6.49083415e-01,\n",
              "         3.95774101e-01],\n",
              "       [ 3.10997534e-01, -5.92373012e-01,  5.35408562e-01,\n",
              "         8.77547895e-04],\n",
              "       [ 6.74501145e-01, -3.62176246e-01,  3.08058854e-01,\n",
              "         1.32509732e-01],\n",
              "       [ 9.16836886e-01, -1.31979479e-01,  3.64896281e-01,\n",
              "         2.64141916e-01],\n",
              "       [ 1.15917263e+00, -5.92373012e-01,  5.92245988e-01,\n",
              "         2.64141916e-01],\n",
              "       [ 1.03800476e+00, -1.31979479e-01,  7.05920842e-01,\n",
              "         6.59038469e-01],\n",
              "       [ 1.89829664e-01, -3.62176246e-01,  4.21733708e-01,\n",
              "         3.95774101e-01],\n",
              "       [-1.73673948e-01, -1.05276654e+00, -1.46640561e-01,\n",
              "        -2.62386821e-01],\n",
              "       [-4.16009689e-01, -1.51316008e+00,  2.38717193e-02,\n",
              "        -1.30754636e-01],\n",
              "       [-4.16009689e-01, -1.51316008e+00, -3.29657076e-02,\n",
              "        -2.62386821e-01],\n",
              "       [-5.25060772e-02, -8.22569778e-01,  8.07091462e-02,\n",
              "         8.77547895e-04],\n",
              "       [ 1.89829664e-01, -8.22569778e-01,  7.62758269e-01,\n",
              "         5.27406285e-01],\n",
              "       [-5.37177559e-01, -1.31979479e-01,  4.21733708e-01,\n",
              "         3.95774101e-01],\n",
              "       [ 1.89829664e-01,  7.88807586e-01,  4.21733708e-01,\n",
              "         5.27406285e-01],\n",
              "       [ 1.03800476e+00,  9.82172869e-02,  5.35408562e-01,\n",
              "         3.95774101e-01],\n",
              "       [ 5.53333275e-01, -1.74335684e+00,  3.64896281e-01,\n",
              "         1.32509732e-01],\n",
              "       [-2.94841818e-01, -1.31979479e-01,  1.94384000e-01,\n",
              "         1.32509732e-01],\n",
              "       [-4.16009689e-01, -1.28296331e+00,  1.37546573e-01,\n",
              "         1.32509732e-01],\n",
              "       [-4.16009689e-01, -1.05276654e+00,  3.64896281e-01,\n",
              "         8.77547895e-04],\n",
              "       [ 3.10997534e-01, -1.31979479e-01,  4.78571135e-01,\n",
              "         2.64141916e-01],\n",
              "       [-5.25060772e-02, -1.05276654e+00,  1.37546573e-01,\n",
              "         8.77547895e-04],\n",
              "       [-1.02184904e+00, -1.74335684e+00, -2.60315415e-01,\n",
              "        -2.62386821e-01],\n",
              "       [-2.94841818e-01, -8.22569778e-01,  2.51221427e-01,\n",
              "         1.32509732e-01],\n",
              "       [-1.73673948e-01, -1.31979479e-01,  2.51221427e-01,\n",
              "         8.77547895e-04],\n",
              "       [-1.73673948e-01, -3.62176246e-01,  2.51221427e-01,\n",
              "         1.32509732e-01],\n",
              "       [ 4.32165405e-01, -3.62176246e-01,  3.08058854e-01,\n",
              "         1.32509732e-01],\n",
              "       [-9.00681170e-01, -1.28296331e+00, -4.30827696e-01,\n",
              "        -1.30754636e-01],\n",
              "       [-1.73673948e-01, -5.92373012e-01,  1.94384000e-01,\n",
              "         1.32509732e-01],\n",
              "       [ 5.53333275e-01,  5.58610819e-01,  1.27429511e+00,\n",
              "         1.71209594e+00],\n",
              "       [-5.25060772e-02, -8.22569778e-01,  7.62758269e-01,\n",
              "         9.22302838e-01],\n",
              "       [ 1.52267624e+00, -1.31979479e-01,  1.21745768e+00,\n",
              "         1.18556721e+00],\n",
              "       [ 5.53333275e-01, -3.62176246e-01,  1.04694540e+00,\n",
              "         7.90670654e-01],\n",
              "       [ 7.95669016e-01, -1.31979479e-01,  1.16062026e+00,\n",
              "         1.31719939e+00],\n",
              "       [ 2.12851559e+00, -1.31979479e-01,  1.61531967e+00,\n",
              "         1.18556721e+00],\n",
              "       [-1.14301691e+00, -1.28296331e+00,  4.21733708e-01,\n",
              "         6.59038469e-01],\n",
              "       [ 1.76501198e+00, -3.62176246e-01,  1.44480739e+00,\n",
              "         7.90670654e-01],\n",
              "       [ 1.03800476e+00, -1.28296331e+00,  1.16062026e+00,\n",
              "         7.90670654e-01],\n",
              "       [ 1.64384411e+00,  1.24920112e+00,  1.33113254e+00,\n",
              "         1.71209594e+00],\n",
              "       [ 7.95669016e-01,  3.28414053e-01,  7.62758269e-01,\n",
              "         1.05393502e+00],\n",
              "       [ 6.74501145e-01, -8.22569778e-01,  8.76433123e-01,\n",
              "         9.22302838e-01],\n",
              "       [ 1.15917263e+00, -1.31979479e-01,  9.90107977e-01,\n",
              "         1.18556721e+00],\n",
              "       [-1.73673948e-01, -1.28296331e+00,  7.05920842e-01,\n",
              "         1.05393502e+00],\n",
              "       [-5.25060772e-02, -5.92373012e-01,  7.62758269e-01,\n",
              "         1.58046376e+00],\n",
              "       [ 6.74501145e-01,  3.28414053e-01,  8.76433123e-01,\n",
              "         1.44883158e+00],\n",
              "       [ 7.95669016e-01, -1.31979479e-01,  9.90107977e-01,\n",
              "         7.90670654e-01],\n",
              "       [ 2.24968346e+00,  1.70959465e+00,  1.67215710e+00,\n",
              "         1.31719939e+00],\n",
              "       [ 2.24968346e+00, -1.05276654e+00,  1.78583195e+00,\n",
              "         1.44883158e+00],\n",
              "       [ 1.89829664e-01, -1.97355361e+00,  7.05920842e-01,\n",
              "         3.95774101e-01],\n",
              "       [ 1.28034050e+00,  3.28414053e-01,  1.10378283e+00,\n",
              "         1.44883158e+00],\n",
              "       [-2.94841818e-01, -5.92373012e-01,  6.49083415e-01,\n",
              "         1.05393502e+00],\n",
              "       [ 2.24968346e+00, -5.92373012e-01,  1.67215710e+00,\n",
              "         1.05393502e+00],\n",
              "       [ 5.53333275e-01, -8.22569778e-01,  6.49083415e-01,\n",
              "         7.90670654e-01],\n",
              "       [ 1.03800476e+00,  5.58610819e-01,  1.10378283e+00,\n",
              "         1.18556721e+00],\n",
              "       [ 1.64384411e+00,  3.28414053e-01,  1.27429511e+00,\n",
              "         7.90670654e-01],\n",
              "       [ 4.32165405e-01, -5.92373012e-01,  5.92245988e-01,\n",
              "         7.90670654e-01],\n",
              "       [ 3.10997534e-01, -1.31979479e-01,  6.49083415e-01,\n",
              "         7.90670654e-01],\n",
              "       [ 6.74501145e-01, -5.92373012e-01,  1.04694540e+00,\n",
              "         1.18556721e+00],\n",
              "       [ 1.64384411e+00, -1.31979479e-01,  1.16062026e+00,\n",
              "         5.27406285e-01],\n",
              "       [ 1.88617985e+00, -5.92373012e-01,  1.33113254e+00,\n",
              "         9.22302838e-01],\n",
              "       [ 2.49201920e+00,  1.70959465e+00,  1.50164482e+00,\n",
              "         1.05393502e+00],\n",
              "       [ 6.74501145e-01, -5.92373012e-01,  1.04694540e+00,\n",
              "         1.31719939e+00],\n",
              "       [ 5.53333275e-01, -5.92373012e-01,  7.62758269e-01,\n",
              "         3.95774101e-01],\n",
              "       [ 3.10997534e-01, -1.05276654e+00,  1.04694540e+00,\n",
              "         2.64141916e-01],\n",
              "       [ 2.24968346e+00, -1.31979479e-01,  1.33113254e+00,\n",
              "         1.44883158e+00],\n",
              "       [ 5.53333275e-01,  7.88807586e-01,  1.04694540e+00,\n",
              "         1.58046376e+00],\n",
              "       [ 6.74501145e-01,  9.82172869e-02,  9.90107977e-01,\n",
              "         7.90670654e-01],\n",
              "       [ 1.89829664e-01, -1.31979479e-01,  5.92245988e-01,\n",
              "         7.90670654e-01],\n",
              "       [ 1.28034050e+00,  9.82172869e-02,  9.33270550e-01,\n",
              "         1.18556721e+00],\n",
              "       [ 1.03800476e+00,  9.82172869e-02,  1.04694540e+00,\n",
              "         1.58046376e+00],\n",
              "       [ 1.28034050e+00,  9.82172869e-02,  7.62758269e-01,\n",
              "         1.44883158e+00],\n",
              "       [-5.25060772e-02, -8.22569778e-01,  7.62758269e-01,\n",
              "         9.22302838e-01],\n",
              "       [ 1.15917263e+00,  3.28414053e-01,  1.21745768e+00,\n",
              "         1.44883158e+00],\n",
              "       [ 1.03800476e+00,  5.58610819e-01,  1.10378283e+00,\n",
              "         1.71209594e+00],\n",
              "       [ 1.03800476e+00, -1.31979479e-01,  8.19595696e-01,\n",
              "         1.44883158e+00],\n",
              "       [ 5.53333275e-01, -1.28296331e+00,  7.05920842e-01,\n",
              "         9.22302838e-01],\n",
              "       [ 7.95669016e-01, -1.31979479e-01,  8.19595696e-01,\n",
              "         1.05393502e+00],\n",
              "       [ 4.32165405e-01,  7.88807586e-01,  9.33270550e-01,\n",
              "         1.44883158e+00],\n",
              "       [ 6.86617933e-02, -1.31979479e-01,  7.62758269e-01,\n",
              "         7.90670654e-01]])"
            ]
          },
          "metadata": {},
          "execution_count": 15
        }
      ]
    },
    {
      "cell_type": "code",
      "source": [
        "target_names"
      ],
      "metadata": {
        "colab": {
          "base_uri": "https://localhost:8080/"
        },
        "id": "hET7jx3xmJFL",
        "outputId": "986ca098-d024-4363-873a-5dc7c22cacbc"
      },
      "execution_count": 16,
      "outputs": [
        {
          "output_type": "execute_result",
          "data": {
            "text/plain": [
              "array(['setosa', 'versicolor', 'virginica'], dtype='<U10')"
            ]
          },
          "metadata": {},
          "execution_count": 16
        }
      ]
    },
    {
      "cell_type": "markdown",
      "source": [
        "Initialiser un modèle PCA et réduire la dimensionnalité de l'ensemble de données Iris à deux composants"
      ],
      "metadata": {
        "id": "86CMPXipnJRB"
      }
    },
    {
      "cell_type": "code",
      "source": [
        "pca = PCA(n_components=2)\n",
        "X_pca = pca.fit_transform(X_scaled)"
      ],
      "metadata": {
        "id": "4PfZCTPem2Gk"
      },
      "execution_count": 18,
      "outputs": []
    },
    {
      "cell_type": "code",
      "source": [
        "X_pca"
      ],
      "metadata": {
        "colab": {
          "base_uri": "https://localhost:8080/"
        },
        "collapsed": true,
        "id": "SXh03sE9nc4l",
        "outputId": "e9c3ac1a-07d2-4f08-d534-80ec9282384f"
      },
      "execution_count": 19,
      "outputs": [
        {
          "output_type": "execute_result",
          "data": {
            "text/plain": [
              "array([[-2.26470281,  0.4800266 ],\n",
              "       [-2.08096115, -0.67413356],\n",
              "       [-2.36422905, -0.34190802],\n",
              "       [-2.29938422, -0.59739451],\n",
              "       [-2.38984217,  0.64683538],\n",
              "       [-2.07563095,  1.48917752],\n",
              "       [-2.44402884,  0.0476442 ],\n",
              "       [-2.23284716,  0.22314807],\n",
              "       [-2.33464048, -1.11532768],\n",
              "       [-2.18432817, -0.46901356],\n",
              "       [-2.1663101 ,  1.04369065],\n",
              "       [-2.32613087,  0.13307834],\n",
              "       [-2.2184509 , -0.72867617],\n",
              "       [-2.6331007 , -0.96150673],\n",
              "       [-2.1987406 ,  1.86005711],\n",
              "       [-2.26221453,  2.68628449],\n",
              "       [-2.2075877 ,  1.48360936],\n",
              "       [-2.19034951,  0.48883832],\n",
              "       [-1.898572  ,  1.40501879],\n",
              "       [-2.34336905,  1.12784938],\n",
              "       [-1.914323  ,  0.40885571],\n",
              "       [-2.20701284,  0.92412143],\n",
              "       [-2.7743447 ,  0.45834367],\n",
              "       [-1.81866953,  0.08555853],\n",
              "       [-2.22716331,  0.13725446],\n",
              "       [-1.95184633, -0.62561859],\n",
              "       [-2.05115137,  0.24216355],\n",
              "       [-2.16857717,  0.52714953],\n",
              "       [-2.13956345,  0.31321781],\n",
              "       [-2.26526149, -0.3377319 ],\n",
              "       [-2.14012214, -0.50454069],\n",
              "       [-1.83159477,  0.42369507],\n",
              "       [-2.61494794,  1.79357586],\n",
              "       [-2.44617739,  2.15072788],\n",
              "       [-2.10997488, -0.46020184],\n",
              "       [-2.2078089 , -0.2061074 ],\n",
              "       [-2.04514621,  0.66155811],\n",
              "       [-2.52733191,  0.59229277],\n",
              "       [-2.42963258, -0.90418004],\n",
              "       [-2.16971071,  0.26887896],\n",
              "       [-2.28647514,  0.44171539],\n",
              "       [-1.85812246, -2.33741516],\n",
              "       [-2.5536384 , -0.47910069],\n",
              "       [-1.96444768,  0.47232667],\n",
              "       [-2.13705901,  1.14222926],\n",
              "       [-2.0697443 , -0.71105273],\n",
              "       [-2.38473317,  1.1204297 ],\n",
              "       [-2.39437631, -0.38624687],\n",
              "       [-2.22944655,  0.99795976],\n",
              "       [-2.20383344,  0.00921636],\n",
              "       [ 1.10178118,  0.86297242],\n",
              "       [ 0.73133743,  0.59461473],\n",
              "       [ 1.24097932,  0.61629765],\n",
              "       [ 0.40748306, -1.75440399],\n",
              "       [ 1.0754747 , -0.20842105],\n",
              "       [ 0.38868734, -0.59328364],\n",
              "       [ 0.74652974,  0.77301931],\n",
              "       [-0.48732274, -1.85242909],\n",
              "       [ 0.92790164,  0.03222608],\n",
              "       [ 0.01142619, -1.03401828],\n",
              "       [-0.11019628, -2.65407282],\n",
              "       [ 0.44069345, -0.06329519],\n",
              "       [ 0.56210831, -1.76472438],\n",
              "       [ 0.71956189, -0.18622461],\n",
              "       [-0.0333547 , -0.43900321],\n",
              "       [ 0.87540719,  0.50906396],\n",
              "       [ 0.35025167, -0.19631173],\n",
              "       [ 0.15881005, -0.79209574],\n",
              "       [ 1.22509363, -1.6222438 ],\n",
              "       [ 0.1649179 , -1.30260923],\n",
              "       [ 0.73768265,  0.39657156],\n",
              "       [ 0.47628719, -0.41732028],\n",
              "       [ 1.2341781 , -0.93332573],\n",
              "       [ 0.6328582 , -0.41638772],\n",
              "       [ 0.70266118, -0.06341182],\n",
              "       [ 0.87427365,  0.25079339],\n",
              "       [ 1.25650912, -0.07725602],\n",
              "       [ 1.35840512,  0.33131168],\n",
              "       [ 0.66480037, -0.22592785],\n",
              "       [-0.04025861, -1.05871855],\n",
              "       [ 0.13079518, -1.56227183],\n",
              "       [ 0.02345269, -1.57247559],\n",
              "       [ 0.24153827, -0.77725638],\n",
              "       [ 1.06109461, -0.63384324],\n",
              "       [ 0.22397877, -0.28777351],\n",
              "       [ 0.42913912,  0.84558224],\n",
              "       [ 1.04872805,  0.5220518 ],\n",
              "       [ 1.04453138, -1.38298872],\n",
              "       [ 0.06958832, -0.21950333],\n",
              "       [ 0.28347724, -1.32932464],\n",
              "       [ 0.27907778, -1.12002852],\n",
              "       [ 0.62456979,  0.02492303],\n",
              "       [ 0.33653037, -0.98840402],\n",
              "       [-0.36218338, -2.01923787],\n",
              "       [ 0.28858624, -0.85573032],\n",
              "       [ 0.09136066, -0.18119213],\n",
              "       [ 0.22771687, -0.38492008],\n",
              "       [ 0.57638829, -0.1548736 ],\n",
              "       [-0.44766702, -1.54379203],\n",
              "       [ 0.25673059, -0.5988518 ],\n",
              "       [ 1.84456887,  0.87042131],\n",
              "       [ 1.15788161, -0.69886986],\n",
              "       [ 2.20526679,  0.56201048],\n",
              "       [ 1.44015066, -0.04698759],\n",
              "       [ 1.86781222,  0.29504482],\n",
              "       [ 2.75187334,  0.8004092 ],\n",
              "       [ 0.36701769, -1.56150289],\n",
              "       [ 2.30243944,  0.42006558],\n",
              "       [ 2.00668647, -0.71143865],\n",
              "       [ 2.25977735,  1.92101038],\n",
              "       [ 1.36417549,  0.69275645],\n",
              "       [ 1.60267867, -0.42170045],\n",
              "       [ 1.8839007 ,  0.41924965],\n",
              "       [ 1.2601151 , -1.16226042],\n",
              "       [ 1.4676452 , -0.44227159],\n",
              "       [ 1.59007732,  0.67624481],\n",
              "       [ 1.47143146,  0.25562182],\n",
              "       [ 2.42632899,  2.55666125],\n",
              "       [ 3.31069558,  0.01778095],\n",
              "       [ 1.26376667, -1.70674538],\n",
              "       [ 2.0377163 ,  0.91046741],\n",
              "       [ 0.97798073, -0.57176432],\n",
              "       [ 2.89765149,  0.41364106],\n",
              "       [ 1.33323218, -0.48181122],\n",
              "       [ 1.7007339 ,  1.01392187],\n",
              "       [ 1.95432671,  1.0077776 ],\n",
              "       [ 1.17510363, -0.31639447],\n",
              "       [ 1.02095055,  0.06434603],\n",
              "       [ 1.78834992, -0.18736121],\n",
              "       [ 1.86364755,  0.56229073],\n",
              "       [ 2.43595373,  0.25928443],\n",
              "       [ 2.30492772,  2.62632347],\n",
              "       [ 1.86270322, -0.17854949],\n",
              "       [ 1.11414774, -0.29292262],\n",
              "       [ 1.2024733 , -0.81131527],\n",
              "       [ 2.79877045,  0.85680333],\n",
              "       [ 1.57625591,  1.06858111],\n",
              "       [ 1.3462921 ,  0.42243061],\n",
              "       [ 0.92482492,  0.0172231 ],\n",
              "       [ 1.85204505,  0.67612817],\n",
              "       [ 2.01481043,  0.61388564],\n",
              "       [ 1.90178409,  0.68957549],\n",
              "       [ 1.15788161, -0.69886986],\n",
              "       [ 2.04055823,  0.8675206 ],\n",
              "       [ 1.9981471 ,  1.04916875],\n",
              "       [ 1.87050329,  0.38696608],\n",
              "       [ 1.56458048, -0.89668681],\n",
              "       [ 1.5211705 ,  0.26906914],\n",
              "       [ 1.37278779,  1.01125442],\n",
              "       [ 0.96065603, -0.02433167]])"
            ]
          },
          "metadata": {},
          "execution_count": 19
        }
      ]
    },
    {
      "cell_type": "code",
      "source": [
        "plt.figure(figsize=(8,6))\n",
        "\n",
        "colors = ['navy', 'turquoise', 'darkorange']\n",
        "lw = 1\n",
        "\n",
        "for color, i, target_name in zip(colors, [0, 1, 2], target_names):\n",
        "    plt.scatter(X_pca[y == i, 0], X_pca[y == i, 1], color=color, s=50, ec='k',alpha=0.7, lw=lw,\n",
        "                label=target_name)\n",
        "\n",
        "plt.title('Reduction de dimension PCA2 pour  IRIS dataset',)\n",
        "plt.xlabel(\"PC1\",)\n",
        "plt.ylabel(\"PC2\",)\n",
        "plt.legend(loc='best', shadow=False, scatterpoints=1,)\n",
        "# plt.grid(True)\n",
        "plt.show()"
      ],
      "metadata": {
        "colab": {
          "base_uri": "https://localhost:8080/",
          "height": 564
        },
        "id": "deU5bwBZnjw0",
        "outputId": "9279d9c6-cf09-4e17-cdd1-9aa76a21014f"
      },
      "execution_count": 26,
      "outputs": [
        {
          "output_type": "display_data",
          "data": {
            "text/plain": [
              "<Figure size 800x600 with 1 Axes>"
            ],
            "image/png": "[encoded data removed]"
          },
          "metadata": {}
        }
      ]
    },
    {
      "cell_type": "markdown",
      "source": [
        "Quel pourcentage de la variance de l'espace des caractéristiques d'origine ces deux composantes principales combinées expliquent-elles ?"
      ],
      "metadata": {
        "id": "VcCd719FuuYp"
      }
    },
    {
      "cell_type": "code",
      "source": [
        "100*pca.explained_variance_ratio_.sum()"
      ],
      "metadata": {
        "colab": {
          "base_uri": "https://localhost:8080/"
        },
        "id": "XcCVN4SVojbw",
        "outputId": "2f7b98eb-07a9-4af5-aac0-9954c9b69cdf"
      },
      "execution_count": 27,
      "outputs": [
        {
          "output_type": "execute_result",
          "data": {
            "text/plain": [
              "np.float64(95.81320720000166)"
            ]
          },
          "metadata": {},
          "execution_count": 27
        }
      ]
    },
    {
      "cell_type": "markdown",
      "source": [
        "Analyse approfondie des variances expliquées\n",
        "Dans cette dernière série d'exercices, votre objectif est de :\n",
        "\n",
        "Obtenir et représenter graphiquement les ratios de variance expliquée par ACP pour les quatre caractéristiques d'Iris sous forme de diagramme à barres\n",
        "Superposer la variance expliquée cumulée"
      ],
      "metadata": {
        "id": "6uMcIGGWvPNQ"
      }
    },
    {
      "cell_type": "markdown",
      "source": [
        "Réinitialiser le modèle PCA sans réduire la dimension"
      ],
      "metadata": {
        "id": "LLRHc9JhvqVd"
      }
    },
    {
      "cell_type": "code",
      "source": [
        "scaler = StandardScaler()\n",
        "X_scaled = scaler.fit_transform(X)\n",
        "\n",
        "# Apply PCA\n",
        "pca = PCA()\n",
        "X_pca = pca.fit_transform(X_scaled)"
      ],
      "metadata": {
        "id": "Nke7w6xRuoKG"
      },
      "execution_count": 28,
      "outputs": []
    },
    {
      "cell_type": "code",
      "source": [
        "explained_variance_ratio = pca.explained_variance_ratio_\n",
        "\n",
        "# Plot explained variance ratio for each component\n",
        "plt.figure(figsize=(10,6))\n",
        "plt.bar(x=range(1, len(explained_variance_ratio)+1), height=explained_variance_ratio, alpha=1, align='center', label='PC explained variance ratio' )\n",
        "plt.ylabel('Explained Variance Ratio')\n",
        "plt.xlabel('Principal Components')\n",
        "plt.title('Explained Variance by Principal Components')\n",
        "\n",
        "# Plot cumulative explained variance\n",
        "cumulative_variance = np.cumsum(explained_variance_ratio)\n",
        "plt.step(range(1, 5), cumulative_variance, where='mid', linestyle='--', lw=3,color='red', label='Cumulative Explained Variance')\n",
        "# Only display integer ticks on the x-axis\n",
        "plt.xticks(range(1, 5))\n",
        "plt.legend()\n",
        "plt.grid(True)\n",
        "plt.show()"
      ],
      "metadata": {
        "colab": {
          "base_uri": "https://localhost:8080/",
          "height": 564
        },
        "id": "ieAj3-l6-t8L",
        "outputId": "58416691-edd2-4a3e-923f-e161202f2e02"
      },
      "execution_count": 29,
      "outputs": [
        {
          "output_type": "display_data",
          "data": {
            "text/plain": [
              "<Figure size 1000x600 with 1 Axes>"
            ],
            "image/png": "[encoded data removed]"
          },
          "metadata": {}
        }
      ]
    },
    {
      "cell_type": "code",
      "source": [],
      "metadata": {
        "id": "199Zju0z-y0l"
      },
      "execution_count": null,
      "outputs": []
    }
  ]
}